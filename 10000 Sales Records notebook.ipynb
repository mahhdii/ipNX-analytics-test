{
 "cells": [
  {
   "cell_type": "code",
   "execution_count": 1,
   "metadata": {},
   "outputs": [],
   "source": [
    "import numpy as np\n",
    "import pandas as pd\n",
    "import matplotlib.pyplot as plt\n",
    "import seaborn as sns"
   ]
  },
  {
   "cell_type": "code",
   "execution_count": 2,
   "metadata": {},
   "outputs": [
    {
     "data": {
      "text/plain": [
       "'C:\\\\Users\\\\user\\\\Downloads\\\\MahdiWork\\\\10000-sales-records'"
      ]
     },
     "execution_count": 2,
     "metadata": {},
     "output_type": "execute_result"
    }
   ],
   "source": [
    "pwd"
   ]
  },
  {
   "cell_type": "code",
   "execution_count": 3,
   "metadata": {},
   "outputs": [],
   "source": [
    "sales_records = pd.read_csv('10000 Sales Records.csv')"
   ]
  },
  {
   "cell_type": "code",
   "execution_count": 4,
   "metadata": {},
   "outputs": [
    {
     "name": "stdout",
     "output_type": "stream",
     "text": [
      "(10000, 14)\n"
     ]
    },
    {
     "data": {
      "text/html": [
       "<div>\n",
       "<style scoped>\n",
       "    .dataframe tbody tr th:only-of-type {\n",
       "        vertical-align: middle;\n",
       "    }\n",
       "\n",
       "    .dataframe tbody tr th {\n",
       "        vertical-align: top;\n",
       "    }\n",
       "\n",
       "    .dataframe thead th {\n",
       "        text-align: right;\n",
       "    }\n",
       "</style>\n",
       "<table border=\"1\" class=\"dataframe\">\n",
       "  <thead>\n",
       "    <tr style=\"text-align: right;\">\n",
       "      <th></th>\n",
       "      <th>Region</th>\n",
       "      <th>Country</th>\n",
       "      <th>Item Type</th>\n",
       "      <th>Sales Channel</th>\n",
       "      <th>Order Priority</th>\n",
       "      <th>Order Date</th>\n",
       "      <th>Order ID</th>\n",
       "      <th>Ship Date</th>\n",
       "      <th>Units Sold</th>\n",
       "      <th>Unit Price</th>\n",
       "      <th>Unit Cost</th>\n",
       "      <th>Total Revenue</th>\n",
       "      <th>Total Cost</th>\n",
       "      <th>Total Profit</th>\n",
       "    </tr>\n",
       "  </thead>\n",
       "  <tbody>\n",
       "    <tr>\n",
       "      <th>0</th>\n",
       "      <td>Sub-Saharan Africa</td>\n",
       "      <td>Chad</td>\n",
       "      <td>Office Supplies</td>\n",
       "      <td>Online</td>\n",
       "      <td>L</td>\n",
       "      <td>1/27/2011</td>\n",
       "      <td>292494523</td>\n",
       "      <td>2/12/2011</td>\n",
       "      <td>4484</td>\n",
       "      <td>651.21</td>\n",
       "      <td>524.96</td>\n",
       "      <td>2920025.64</td>\n",
       "      <td>2353920.64</td>\n",
       "      <td>566105.00</td>\n",
       "    </tr>\n",
       "    <tr>\n",
       "      <th>1</th>\n",
       "      <td>Europe</td>\n",
       "      <td>Latvia</td>\n",
       "      <td>Beverages</td>\n",
       "      <td>Online</td>\n",
       "      <td>C</td>\n",
       "      <td>12/28/2015</td>\n",
       "      <td>361825549</td>\n",
       "      <td>1/23/2016</td>\n",
       "      <td>1075</td>\n",
       "      <td>47.45</td>\n",
       "      <td>31.79</td>\n",
       "      <td>51008.75</td>\n",
       "      <td>34174.25</td>\n",
       "      <td>16834.50</td>\n",
       "    </tr>\n",
       "    <tr>\n",
       "      <th>2</th>\n",
       "      <td>Middle East and North Africa</td>\n",
       "      <td>Pakistan</td>\n",
       "      <td>Vegetables</td>\n",
       "      <td>Offline</td>\n",
       "      <td>C</td>\n",
       "      <td>1/13/2011</td>\n",
       "      <td>141515767</td>\n",
       "      <td>2/1/2011</td>\n",
       "      <td>6515</td>\n",
       "      <td>154.06</td>\n",
       "      <td>90.93</td>\n",
       "      <td>1003700.90</td>\n",
       "      <td>592408.95</td>\n",
       "      <td>411291.95</td>\n",
       "    </tr>\n",
       "    <tr>\n",
       "      <th>3</th>\n",
       "      <td>Sub-Saharan Africa</td>\n",
       "      <td>Democratic Republic of the Congo</td>\n",
       "      <td>Household</td>\n",
       "      <td>Online</td>\n",
       "      <td>C</td>\n",
       "      <td>9/11/2012</td>\n",
       "      <td>500364005</td>\n",
       "      <td>10/6/2012</td>\n",
       "      <td>7683</td>\n",
       "      <td>668.27</td>\n",
       "      <td>502.54</td>\n",
       "      <td>5134318.41</td>\n",
       "      <td>3861014.82</td>\n",
       "      <td>1273303.59</td>\n",
       "    </tr>\n",
       "    <tr>\n",
       "      <th>4</th>\n",
       "      <td>Europe</td>\n",
       "      <td>Czech Republic</td>\n",
       "      <td>Beverages</td>\n",
       "      <td>Online</td>\n",
       "      <td>C</td>\n",
       "      <td>10/27/2015</td>\n",
       "      <td>127481591</td>\n",
       "      <td>12/5/2015</td>\n",
       "      <td>3491</td>\n",
       "      <td>47.45</td>\n",
       "      <td>31.79</td>\n",
       "      <td>165647.95</td>\n",
       "      <td>110978.89</td>\n",
       "      <td>54669.06</td>\n",
       "    </tr>\n",
       "  </tbody>\n",
       "</table>\n",
       "</div>"
      ],
      "text/plain": [
       "                         Region                           Country  \\\n",
       "0            Sub-Saharan Africa                              Chad   \n",
       "1                        Europe                            Latvia   \n",
       "2  Middle East and North Africa                          Pakistan   \n",
       "3            Sub-Saharan Africa  Democratic Republic of the Congo   \n",
       "4                        Europe                    Czech Republic   \n",
       "\n",
       "         Item Type Sales Channel Order Priority  Order Date   Order ID  \\\n",
       "0  Office Supplies        Online              L   1/27/2011  292494523   \n",
       "1        Beverages        Online              C  12/28/2015  361825549   \n",
       "2       Vegetables       Offline              C   1/13/2011  141515767   \n",
       "3        Household        Online              C   9/11/2012  500364005   \n",
       "4        Beverages        Online              C  10/27/2015  127481591   \n",
       "\n",
       "   Ship Date  Units Sold  Unit Price  Unit Cost  Total Revenue  Total Cost  \\\n",
       "0  2/12/2011        4484      651.21     524.96     2920025.64  2353920.64   \n",
       "1  1/23/2016        1075       47.45      31.79       51008.75    34174.25   \n",
       "2   2/1/2011        6515      154.06      90.93     1003700.90   592408.95   \n",
       "3  10/6/2012        7683      668.27     502.54     5134318.41  3861014.82   \n",
       "4  12/5/2015        3491       47.45      31.79      165647.95   110978.89   \n",
       "\n",
       "   Total Profit  \n",
       "0     566105.00  \n",
       "1      16834.50  \n",
       "2     411291.95  \n",
       "3    1273303.59  \n",
       "4      54669.06  "
      ]
     },
     "execution_count": 4,
     "metadata": {},
     "output_type": "execute_result"
    }
   ],
   "source": [
    "print(sales_records.shape)\n",
    "sales_records.head()"
   ]
  },
  {
   "cell_type": "code",
   "execution_count": 5,
   "metadata": {},
   "outputs": [
    {
     "data": {
      "text/plain": [
       "Region            0\n",
       "Country           0\n",
       "Item Type         0\n",
       "Sales Channel     0\n",
       "Order Priority    0\n",
       "Order Date        0\n",
       "Order ID          0\n",
       "Ship Date         0\n",
       "Units Sold        0\n",
       "Unit Price        0\n",
       "Unit Cost         0\n",
       "Total Revenue     0\n",
       "Total Cost        0\n",
       "Total Profit      0\n",
       "dtype: int64"
      ]
     },
     "execution_count": 5,
     "metadata": {},
     "output_type": "execute_result"
    }
   ],
   "source": [
    "sales_records.isnull().sum()"
   ]
  },
  {
   "cell_type": "code",
   "execution_count": 6,
   "metadata": {},
   "outputs": [
    {
     "data": {
      "text/plain": [
       "Region             object\n",
       "Country            object\n",
       "Item Type          object\n",
       "Sales Channel      object\n",
       "Order Priority     object\n",
       "Order Date         object\n",
       "Order ID            int64\n",
       "Ship Date          object\n",
       "Units Sold          int64\n",
       "Unit Price        float64\n",
       "Unit Cost         float64\n",
       "Total Revenue     float64\n",
       "Total Cost        float64\n",
       "Total Profit      float64\n",
       "dtype: object"
      ]
     },
     "execution_count": 6,
     "metadata": {},
     "output_type": "execute_result"
    }
   ],
   "source": [
    "sales_records.dtypes"
   ]
  },
  {
   "cell_type": "code",
   "execution_count": 7,
   "metadata": {},
   "outputs": [],
   "source": [
    "df = sales_records.copy() # making a copy of the dataset to work with"
   ]
  },
  {
   "cell_type": "code",
   "execution_count": 8,
   "metadata": {},
   "outputs": [
    {
     "data": {
      "text/plain": [
       "array(['Office Supplies', 'Beverages', 'Vegetables', 'Household',\n",
       "       'Baby Food', 'Meat', 'Cereal', 'Clothes', 'Snacks',\n",
       "       'Personal Care', 'Cosmetics', 'Fruits'], dtype=object)"
      ]
     },
     "execution_count": 8,
     "metadata": {},
     "output_type": "execute_result"
    }
   ],
   "source": [
    "df['Item Type'].unique() # checking the unique Item Type in the dataframe"
   ]
  },
  {
   "cell_type": "code",
   "execution_count": 9,
   "metadata": {},
   "outputs": [
    {
     "data": {
      "text/plain": [
       "True"
      ]
     },
     "execution_count": 9,
     "metadata": {},
     "output_type": "execute_result"
    }
   ],
   "source": [
    "len(df['Order ID'].unique()) == df.shape[0] # checking for duplicate in Order ID because it is most likely the primary key"
   ]
  },
  {
   "cell_type": "markdown",
   "metadata": {},
   "source": [
    "### confirmed! there are no duplicates in Order ID"
   ]
  },
  {
   "cell_type": "markdown",
   "metadata": {},
   "source": [
    "## 1.0 Item Type and Channel"
   ]
  },
  {
   "cell_type": "code",
   "execution_count": 10,
   "metadata": {},
   "outputs": [],
   "source": [
    "by_item_channel = df.groupby(['Item Type', 'Sales Channel']).count()['Order ID']"
   ]
  },
  {
   "cell_type": "code",
   "execution_count": 11,
   "metadata": {},
   "outputs": [
    {
     "data": {
      "text/html": [
       "<div>\n",
       "<style scoped>\n",
       "    .dataframe tbody tr th:only-of-type {\n",
       "        vertical-align: middle;\n",
       "    }\n",
       "\n",
       "    .dataframe tbody tr th {\n",
       "        vertical-align: top;\n",
       "    }\n",
       "\n",
       "    .dataframe thead th {\n",
       "        text-align: right;\n",
       "    }\n",
       "</style>\n",
       "<table border=\"1\" class=\"dataframe\">\n",
       "  <thead>\n",
       "    <tr style=\"text-align: right;\">\n",
       "      <th></th>\n",
       "      <th></th>\n",
       "      <th>Order ID</th>\n",
       "    </tr>\n",
       "    <tr>\n",
       "      <th>Item Type</th>\n",
       "      <th>Sales Channel</th>\n",
       "      <th></th>\n",
       "    </tr>\n",
       "  </thead>\n",
       "  <tbody>\n",
       "    <tr>\n",
       "      <th rowspan=\"2\" valign=\"top\">Baby Food</th>\n",
       "      <th>Offline</th>\n",
       "      <td>406</td>\n",
       "    </tr>\n",
       "    <tr>\n",
       "      <th>Online</th>\n",
       "      <td>436</td>\n",
       "    </tr>\n",
       "    <tr>\n",
       "      <th rowspan=\"2\" valign=\"top\">Beverages</th>\n",
       "      <th>Offline</th>\n",
       "      <td>381</td>\n",
       "    </tr>\n",
       "    <tr>\n",
       "      <th>Online</th>\n",
       "      <td>401</td>\n",
       "    </tr>\n",
       "    <tr>\n",
       "      <th rowspan=\"2\" valign=\"top\">Cereal</th>\n",
       "      <th>Offline</th>\n",
       "      <td>385</td>\n",
       "    </tr>\n",
       "    <tr>\n",
       "      <th>Online</th>\n",
       "      <td>440</td>\n",
       "    </tr>\n",
       "    <tr>\n",
       "      <th rowspan=\"2\" valign=\"top\">Clothes</th>\n",
       "      <th>Offline</th>\n",
       "      <td>451</td>\n",
       "    </tr>\n",
       "    <tr>\n",
       "      <th>Online</th>\n",
       "      <td>421</td>\n",
       "    </tr>\n",
       "    <tr>\n",
       "      <th rowspan=\"2\" valign=\"top\">Cosmetics</th>\n",
       "      <th>Offline</th>\n",
       "      <td>415</td>\n",
       "    </tr>\n",
       "    <tr>\n",
       "      <th>Online</th>\n",
       "      <td>419</td>\n",
       "    </tr>\n",
       "    <tr>\n",
       "      <th rowspan=\"2\" valign=\"top\">Fruits</th>\n",
       "      <th>Offline</th>\n",
       "      <td>375</td>\n",
       "    </tr>\n",
       "    <tr>\n",
       "      <th>Online</th>\n",
       "      <td>420</td>\n",
       "    </tr>\n",
       "    <tr>\n",
       "      <th rowspan=\"2\" valign=\"top\">Household</th>\n",
       "      <th>Offline</th>\n",
       "      <td>445</td>\n",
       "    </tr>\n",
       "    <tr>\n",
       "      <th>Online</th>\n",
       "      <td>430</td>\n",
       "    </tr>\n",
       "    <tr>\n",
       "      <th rowspan=\"2\" valign=\"top\">Meat</th>\n",
       "      <th>Offline</th>\n",
       "      <td>401</td>\n",
       "    </tr>\n",
       "    <tr>\n",
       "      <th>Online</th>\n",
       "      <td>397</td>\n",
       "    </tr>\n",
       "    <tr>\n",
       "      <th rowspan=\"2\" valign=\"top\">Office Supplies</th>\n",
       "      <th>Offline</th>\n",
       "      <td>406</td>\n",
       "    </tr>\n",
       "    <tr>\n",
       "      <th>Online</th>\n",
       "      <td>431</td>\n",
       "    </tr>\n",
       "    <tr>\n",
       "      <th rowspan=\"2\" valign=\"top\">Personal Care</th>\n",
       "      <th>Offline</th>\n",
       "      <td>433</td>\n",
       "    </tr>\n",
       "    <tr>\n",
       "      <th>Online</th>\n",
       "      <td>455</td>\n",
       "    </tr>\n",
       "    <tr>\n",
       "      <th rowspan=\"2\" valign=\"top\">Snacks</th>\n",
       "      <th>Offline</th>\n",
       "      <td>406</td>\n",
       "    </tr>\n",
       "    <tr>\n",
       "      <th>Online</th>\n",
       "      <td>410</td>\n",
       "    </tr>\n",
       "    <tr>\n",
       "      <th rowspan=\"2\" valign=\"top\">Vegetables</th>\n",
       "      <th>Offline</th>\n",
       "      <td>435</td>\n",
       "    </tr>\n",
       "    <tr>\n",
       "      <th>Online</th>\n",
       "      <td>401</td>\n",
       "    </tr>\n",
       "  </tbody>\n",
       "</table>\n",
       "</div>"
      ],
      "text/plain": [
       "                               Order ID\n",
       "Item Type       Sales Channel          \n",
       "Baby Food       Offline             406\n",
       "                Online              436\n",
       "Beverages       Offline             381\n",
       "                Online              401\n",
       "Cereal          Offline             385\n",
       "                Online              440\n",
       "Clothes         Offline             451\n",
       "                Online              421\n",
       "Cosmetics       Offline             415\n",
       "                Online              419\n",
       "Fruits          Offline             375\n",
       "                Online              420\n",
       "Household       Offline             445\n",
       "                Online              430\n",
       "Meat            Offline             401\n",
       "                Online              397\n",
       "Office Supplies Offline             406\n",
       "                Online              431\n",
       "Personal Care   Offline             433\n",
       "                Online              455\n",
       "Snacks          Offline             406\n",
       "                Online              410\n",
       "Vegetables      Offline             435\n",
       "                Online              401"
      ]
     },
     "execution_count": 11,
     "metadata": {},
     "output_type": "execute_result"
    }
   ],
   "source": [
    "by_item_channel.to_frame()"
   ]
  },
  {
   "cell_type": "code",
   "execution_count": 12,
   "metadata": {},
   "outputs": [
    {
     "data": {
      "image/png": "[encoded data removed]",
      "text/plain": [
       "<Figure size 720x432 with 1 Axes>"
      ]
     },
     "metadata": {
      "needs_background": "light"
     },
     "output_type": "display_data"
    }
   ],
   "source": [
    "plt.figure(figsize=(10, 6))\n",
    "sns.barplot(x='Item Type', hue='Sales Channel', y='Order ID', data=by_item_channel.reset_index())\n",
    "plt.xticks(rotation=90)\n",
    "plt.show()"
   ]
  },
  {
   "cell_type": "markdown",
   "metadata": {},
   "source": [
    "## 2.0 Total revenue from sales of office supplies"
   ]
  },
  {
   "cell_type": "code",
   "execution_count": 13,
   "metadata": {},
   "outputs": [
    {
     "name": "stdout",
     "output_type": "stream",
     "text": [
      "Total revenue from sales of office supplies is 2683156468.23\n"
     ]
    }
   ],
   "source": [
    "print('Total revenue from sales of office supplies is {}'.format(\\\n",
    "                                                        df[df['Item Type'] == 'Office Supplies']['Total Revenue'].sum()))"
   ]
  },
  {
   "cell_type": "markdown",
   "metadata": {},
   "source": [
    "## 3.0 Total profit made from each sales channel"
   ]
  },
  {
   "cell_type": "code",
   "execution_count": 14,
   "metadata": {},
   "outputs": [
    {
     "data": {
      "text/html": [
       "<div>\n",
       "<style scoped>\n",
       "    .dataframe tbody tr th:only-of-type {\n",
       "        vertical-align: middle;\n",
       "    }\n",
       "\n",
       "    .dataframe tbody tr th {\n",
       "        vertical-align: top;\n",
       "    }\n",
       "\n",
       "    .dataframe thead th {\n",
       "        text-align: right;\n",
       "    }\n",
       "</style>\n",
       "<table border=\"1\" class=\"dataframe\">\n",
       "  <thead>\n",
       "    <tr style=\"text-align: right;\">\n",
       "      <th></th>\n",
       "      <th>Total Revenue</th>\n",
       "    </tr>\n",
       "    <tr>\n",
       "      <th>Sales Channel</th>\n",
       "      <th></th>\n",
       "    </tr>\n",
       "  </thead>\n",
       "  <tbody>\n",
       "    <tr>\n",
       "      <th>Offline</th>\n",
       "      <td>6.675704e+09</td>\n",
       "    </tr>\n",
       "    <tr>\n",
       "      <th>Online</th>\n",
       "      <td>6.657847e+09</td>\n",
       "    </tr>\n",
       "  </tbody>\n",
       "</table>\n",
       "</div>"
      ],
      "text/plain": [
       "               Total Revenue\n",
       "Sales Channel               \n",
       "Offline         6.675704e+09\n",
       "Online          6.657847e+09"
      ]
     },
     "execution_count": 14,
     "metadata": {},
     "output_type": "execute_result"
    }
   ],
   "source": [
    "channels_revenue = df.groupby('Sales Channel').sum()['Total Revenue']\n",
    "channels_revenue.to_frame()"
   ]
  },
  {
   "cell_type": "code",
   "execution_count": 15,
   "metadata": {},
   "outputs": [
    {
     "data": {
      "image/png": "[encoded data removed]",
      "text/plain": [
       "<Figure size 432x288 with 1 Axes>"
      ]
     },
     "metadata": {
      "needs_background": "light"
     },
     "output_type": "display_data"
    }
   ],
   "source": [
    "sns.barplot(x='Sales Channel', y='Total Revenue', data=channels_revenue.reset_index())\n",
    "plt.show()"
   ]
  },
  {
   "cell_type": "markdown",
   "metadata": {},
   "source": [
    "## 4.0 Total beverage orders from Asia"
   ]
  },
  {
   "cell_type": "code",
   "execution_count": 16,
   "metadata": {},
   "outputs": [
    {
     "data": {
      "text/plain": [
       "array(['Sub-Saharan Africa', 'Europe', 'Middle East and North Africa',\n",
       "       'Asia', 'Central America and the Caribbean',\n",
       "       'Australia and Oceania', 'North America'], dtype=object)"
      ]
     },
     "execution_count": 16,
     "metadata": {},
     "output_type": "execute_result"
    }
   ],
   "source": [
    "df['Region'].unique()"
   ]
  },
  {
   "cell_type": "code",
   "execution_count": 17,
   "metadata": {},
   "outputs": [
    {
     "name": "stdout",
     "output_type": "stream",
     "text": [
      "Total beverage orders from Asia is 552183\n"
     ]
    }
   ],
   "source": [
    "print('Total beverage orders from Asia is {}'.format(\\\n",
    "                df[(df['Region'] == 'Asia') & (df['Item Type'] == 'Beverages')]['Units Sold'].sum()))"
   ]
  },
  {
   "cell_type": "markdown",
   "metadata": {},
   "source": [
    "## 5.0 Most profitable region"
   ]
  },
  {
   "cell_type": "code",
   "execution_count": 18,
   "metadata": {},
   "outputs": [
    {
     "data": {
      "text/html": [
       "<div>\n",
       "<style scoped>\n",
       "    .dataframe tbody tr th:only-of-type {\n",
       "        vertical-align: middle;\n",
       "    }\n",
       "\n",
       "    .dataframe tbody tr th {\n",
       "        vertical-align: top;\n",
       "    }\n",
       "\n",
       "    .dataframe thead th {\n",
       "        text-align: right;\n",
       "    }\n",
       "</style>\n",
       "<table border=\"1\" class=\"dataframe\">\n",
       "  <thead>\n",
       "    <tr style=\"text-align: right;\">\n",
       "      <th></th>\n",
       "      <th>Total Profit</th>\n",
       "    </tr>\n",
       "    <tr>\n",
       "      <th>Region</th>\n",
       "      <th></th>\n",
       "    </tr>\n",
       "  </thead>\n",
       "  <tbody>\n",
       "    <tr>\n",
       "      <th>Europe</th>\n",
       "      <td>1.027000e+09</td>\n",
       "    </tr>\n",
       "    <tr>\n",
       "      <th>Sub-Saharan Africa</th>\n",
       "      <td>9.996421e+08</td>\n",
       "    </tr>\n",
       "    <tr>\n",
       "      <th>Asia</th>\n",
       "      <td>5.874033e+08</td>\n",
       "    </tr>\n",
       "    <tr>\n",
       "      <th>Middle East and North Africa</th>\n",
       "      <td>5.099239e+08</td>\n",
       "    </tr>\n",
       "    <tr>\n",
       "      <th>Central America and the Caribbean</th>\n",
       "      <td>4.033578e+08</td>\n",
       "    </tr>\n",
       "    <tr>\n",
       "      <th>Australia and Oceania</th>\n",
       "      <td>3.240712e+08</td>\n",
       "    </tr>\n",
       "    <tr>\n",
       "      <th>North America</th>\n",
       "      <td>9.949552e+07</td>\n",
       "    </tr>\n",
       "  </tbody>\n",
       "</table>\n",
       "</div>"
      ],
      "text/plain": [
       "                                   Total Profit\n",
       "Region                                         \n",
       "Europe                             1.027000e+09\n",
       "Sub-Saharan Africa                 9.996421e+08\n",
       "Asia                               5.874033e+08\n",
       "Middle East and North Africa       5.099239e+08\n",
       "Central America and the Caribbean  4.033578e+08\n",
       "Australia and Oceania              3.240712e+08\n",
       "North America                      9.949552e+07"
      ]
     },
     "execution_count": 18,
     "metadata": {},
     "output_type": "execute_result"
    }
   ],
   "source": [
    "most_profitable_region = df.groupby('Region').sum()['Total Profit'].sort_values(ascending=False)\n",
    "most_profitable_region.to_frame()"
   ]
  },
  {
   "cell_type": "code",
   "execution_count": 19,
   "metadata": {},
   "outputs": [
    {
     "name": "stdout",
     "output_type": "stream",
     "text": [
      "most profitable region is Europe with a total profit of 1026999612.8 which makes 25.994% of the total profit across all regions\n"
     ]
    }
   ],
   "source": [
    "print('most profitable region is {} with a total profit of {} which makes {}% of the total profit across all regions'.format(\\\n",
    "      most_profitable_region.index[0], round(most_profitable_region[0], 3), round(100*most_profitable_region[0] / \\\n",
    "                                                                                  most_profitable_region.sum(), 3)))"
   ]
  },
  {
   "cell_type": "code",
   "execution_count": null,
   "metadata": {},
   "outputs": [],
   "source": []
  }
 ],
 "metadata": {
  "kernelspec": {
   "display_name": "Python 3",
   "language": "python",
   "name": "python3"
  },
  "language_info": {
   "codemirror_mode": {
    "name": "ipython",
    "version": 3
   },
   "file_extension": ".py",
   "mimetype": "text/x-python",
   "name": "python",
   "nbconvert_exporter": "python",
   "pygments_lexer": "ipython3",
   "version": "3.7.7"
  }
 },
 "nbformat": 4,
 "nbformat_minor": 4
}
